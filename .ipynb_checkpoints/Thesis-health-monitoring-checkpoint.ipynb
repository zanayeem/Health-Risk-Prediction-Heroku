{
 "cells": [
  {
   "cell_type": "markdown",
   "metadata": {},
   "source": [
    "### Imports"
   ]
  },
  {
   "cell_type": "code",
   "execution_count": 1,
   "metadata": {},
   "outputs": [],
   "source": [
    "import matplotlib.pyplot as plt\n",
    "import pandas as pd\n",
    "import seaborn as sns\n",
    "import numpy as np\n",
    "%matplotlib inline"
   ]
  },
  {
   "cell_type": "code",
   "execution_count": 2,
   "metadata": {},
   "outputs": [],
   "source": [
    "data = pd.read_csv('health-data.csv')"
   ]
  },
  {
   "cell_type": "code",
   "execution_count": 3,
   "metadata": {},
   "outputs": [
    {
     "data": {
      "text/html": [
       "<div>\n",
       "<style scoped>\n",
       "    .dataframe tbody tr th:only-of-type {\n",
       "        vertical-align: middle;\n",
       "    }\n",
       "\n",
       "    .dataframe tbody tr th {\n",
       "        vertical-align: top;\n",
       "    }\n",
       "\n",
       "    .dataframe thead th {\n",
       "        text-align: right;\n",
       "    }\n",
       "</style>\n",
       "<table border=\"1\" class=\"dataframe\">\n",
       "  <thead>\n",
       "    <tr style=\"text-align: right;\">\n",
       "      <th></th>\n",
       "      <th>PulseRate</th>\n",
       "      <th>BloodOxygen</th>\n",
       "      <th>BodyTemperature</th>\n",
       "      <th>Gender</th>\n",
       "      <th>Age</th>\n",
       "      <th>Height</th>\n",
       "      <th>Weight</th>\n",
       "      <th>Decision</th>\n",
       "    </tr>\n",
       "  </thead>\n",
       "  <tbody>\n",
       "    <tr>\n",
       "      <th>0</th>\n",
       "      <td>70</td>\n",
       "      <td>98.6</td>\n",
       "      <td>97.5</td>\n",
       "      <td>Male</td>\n",
       "      <td>70</td>\n",
       "      <td>64</td>\n",
       "      <td>183.927889</td>\n",
       "      <td>HighRisk</td>\n",
       "    </tr>\n",
       "    <tr>\n",
       "      <th>1</th>\n",
       "      <td>71</td>\n",
       "      <td>98.6</td>\n",
       "      <td>97.5</td>\n",
       "      <td>Male</td>\n",
       "      <td>27</td>\n",
       "      <td>61</td>\n",
       "      <td>167.971111</td>\n",
       "      <td>LowRisk</td>\n",
       "    </tr>\n",
       "    <tr>\n",
       "      <th>2</th>\n",
       "      <td>74</td>\n",
       "      <td>98.6</td>\n",
       "      <td>97.5</td>\n",
       "      <td>Male</td>\n",
       "      <td>26</td>\n",
       "      <td>68</td>\n",
       "      <td>175.929440</td>\n",
       "      <td>LowRisk</td>\n",
       "    </tr>\n",
       "    <tr>\n",
       "      <th>3</th>\n",
       "      <td>80</td>\n",
       "      <td>98.6</td>\n",
       "      <td>97.5</td>\n",
       "      <td>Male</td>\n",
       "      <td>28</td>\n",
       "      <td>66</td>\n",
       "      <td>156.399676</td>\n",
       "      <td>LowRisk</td>\n",
       "    </tr>\n",
       "    <tr>\n",
       "      <th>4</th>\n",
       "      <td>73</td>\n",
       "      <td>98.6</td>\n",
       "      <td>97.5</td>\n",
       "      <td>Male</td>\n",
       "      <td>25</td>\n",
       "      <td>66</td>\n",
       "      <td>186.604926</td>\n",
       "      <td>LowRisk</td>\n",
       "    </tr>\n",
       "    <tr>\n",
       "      <th>...</th>\n",
       "      <td>...</td>\n",
       "      <td>...</td>\n",
       "      <td>...</td>\n",
       "      <td>...</td>\n",
       "      <td>...</td>\n",
       "      <td>...</td>\n",
       "      <td>...</td>\n",
       "      <td>...</td>\n",
       "    </tr>\n",
       "    <tr>\n",
       "      <th>95</th>\n",
       "      <td>79</td>\n",
       "      <td>97.5</td>\n",
       "      <td>97.5</td>\n",
       "      <td>Female</td>\n",
       "      <td>30</td>\n",
       "      <td>64</td>\n",
       "      <td>167.739775</td>\n",
       "      <td>NoRisk</td>\n",
       "    </tr>\n",
       "    <tr>\n",
       "      <th>96</th>\n",
       "      <td>81</td>\n",
       "      <td>97.5</td>\n",
       "      <td>97.5</td>\n",
       "      <td>Female</td>\n",
       "      <td>35</td>\n",
       "      <td>61</td>\n",
       "      <td>154.395625</td>\n",
       "      <td>NoRisk</td>\n",
       "    </tr>\n",
       "    <tr>\n",
       "      <th>97</th>\n",
       "      <td>73</td>\n",
       "      <td>97.5</td>\n",
       "      <td>97.5</td>\n",
       "      <td>Female</td>\n",
       "      <td>18</td>\n",
       "      <td>72</td>\n",
       "      <td>177.984729</td>\n",
       "      <td>NoRisk</td>\n",
       "    </tr>\n",
       "    <tr>\n",
       "      <th>98</th>\n",
       "      <td>74</td>\n",
       "      <td>97.5</td>\n",
       "      <td>97.5</td>\n",
       "      <td>Male</td>\n",
       "      <td>22</td>\n",
       "      <td>61</td>\n",
       "      <td>183.938857</td>\n",
       "      <td>NoRisk</td>\n",
       "    </tr>\n",
       "    <tr>\n",
       "      <th>99</th>\n",
       "      <td>84</td>\n",
       "      <td>97.5</td>\n",
       "      <td>96.8</td>\n",
       "      <td>Female</td>\n",
       "      <td>18</td>\n",
       "      <td>65</td>\n",
       "      <td>179.204782</td>\n",
       "      <td>LowRisk</td>\n",
       "    </tr>\n",
       "  </tbody>\n",
       "</table>\n",
       "<p>100 rows × 8 columns</p>\n",
       "</div>"
      ],
      "text/plain": [
       "    PulseRate  BloodOxygen  BodyTemperature  Gender  Age  Height      Weight  \\\n",
       "0          70         98.6             97.5    Male   70      64  183.927889   \n",
       "1          71         98.6             97.5    Male   27      61  167.971111   \n",
       "2          74         98.6             97.5    Male   26      68  175.929440   \n",
       "3          80         98.6             97.5    Male   28      66  156.399676   \n",
       "4          73         98.6             97.5    Male   25      66  186.604926   \n",
       "..        ...          ...              ...     ...  ...     ...         ...   \n",
       "95         79         97.5             97.5  Female   30      64  167.739775   \n",
       "96         81         97.5             97.5  Female   35      61  154.395625   \n",
       "97         73         97.5             97.5  Female   18      72  177.984729   \n",
       "98         74         97.5             97.5    Male   22      61  183.938857   \n",
       "99         84         97.5             96.8  Female   18      65  179.204782   \n",
       "\n",
       "    Decision  \n",
       "0   HighRisk  \n",
       "1    LowRisk  \n",
       "2    LowRisk  \n",
       "3    LowRisk  \n",
       "4    LowRisk  \n",
       "..       ...  \n",
       "95    NoRisk  \n",
       "96    NoRisk  \n",
       "97    NoRisk  \n",
       "98    NoRisk  \n",
       "99   LowRisk  \n",
       "\n",
       "[100 rows x 8 columns]"
      ]
     },
     "execution_count": 3,
     "metadata": {},
     "output_type": "execute_result"
    }
   ],
   "source": [
    "data.head(100)"
   ]
  },
  {
   "cell_type": "code",
   "execution_count": 4,
   "metadata": {},
   "outputs": [
    {
     "name": "stdout",
     "output_type": "stream",
     "text": [
      "<class 'pandas.core.frame.DataFrame'>\n",
      "RangeIndex: 500 entries, 0 to 499\n",
      "Data columns (total 8 columns):\n",
      " #   Column           Non-Null Count  Dtype  \n",
      "---  ------           --------------  -----  \n",
      " 0   PulseRate        500 non-null    int64  \n",
      " 1   BloodOxygen      500 non-null    float64\n",
      " 2   BodyTemperature  500 non-null    float64\n",
      " 3   Gender           500 non-null    object \n",
      " 4   Age              500 non-null    int64  \n",
      " 5   Height           500 non-null    int64  \n",
      " 6   Weight           500 non-null    float64\n",
      " 7   Decision         500 non-null    object \n",
      "dtypes: float64(3), int64(3), object(2)\n",
      "memory usage: 31.4+ KB\n"
     ]
    }
   ],
   "source": [
    "data.info()"
   ]
  },
  {
   "cell_type": "markdown",
   "metadata": {},
   "source": [
    "### Data Visualization"
   ]
  },
  {
   "cell_type": "code",
   "execution_count": 5,
   "metadata": {},
   "outputs": [
    {
     "data": {
      "text/plain": [
       "<matplotlib.axes._subplots.AxesSubplot at 0x2256c304508>"
      ]
     },
     "execution_count": 5,
     "metadata": {},
     "output_type": "execute_result"
    },
    {
     "data": {
      "image/png": "[encoded data removed]",
      "text/plain": [
       "<Figure size 432x288 with 1 Axes>"
      ]
     },
     "metadata": {
      "needs_background": "light"
     },
     "output_type": "display_data"
    }
   ],
   "source": [
    "sns.countplot(x='Gender',data=data)"
   ]
  },
  {
   "cell_type": "code",
   "execution_count": 6,
   "metadata": {},
   "outputs": [
    {
     "data": {
      "text/plain": [
       "<matplotlib.axes._subplots.AxesSubplot at 0x2256c447048>"
      ]
     },
     "execution_count": 6,
     "metadata": {},
     "output_type": "execute_result"
    },
    {
     "data": {
      "image/png": "[encoded data removed]",
      "text/plain": [
       "<Figure size 432x288 with 1 Axes>"
      ]
     },
     "metadata": {
      "needs_background": "light"
     },
     "output_type": "display_data"
    }
   ],
   "source": [
    "sns.distplot(data['Age'],bins=20,color='black')"
   ]
  },
  {
   "cell_type": "code",
   "execution_count": 7,
   "metadata": {},
   "outputs": [
    {
     "data": {
      "text/plain": [
       "<seaborn.axisgrid.JointGrid at 0x2256c4fba88>"
      ]
     },
     "execution_count": 7,
     "metadata": {},
     "output_type": "execute_result"
    },
    {
     "data": {
      "image/png": "[encoded data removed]",
      "text/plain": [
       "<Figure size 432x432 with 3 Axes>"
      ]
     },
     "metadata": {
      "needs_background": "light"
     },
     "output_type": "display_data"
    }
   ],
   "source": [
    "sns.jointplot(x='Height',y='Weight',data=data,kind='hex')"
   ]
  },
  {
   "cell_type": "code",
   "execution_count": 8,
   "metadata": {},
   "outputs": [
    {
     "data": {
      "text/plain": [
       "<matplotlib.axes._subplots.AxesSubplot at 0x2256c65fec8>"
      ]
     },
     "execution_count": 8,
     "metadata": {},
     "output_type": "execute_result"
    },
    {
     "data": {
      "image/png": "[encoded data removed]",
      "text/plain": [
       "<Figure size 432x288 with 1 Axes>"
      ]
     },
     "metadata": {
      "needs_background": "light"
     },
     "output_type": "display_data"
    }
   ],
   "source": [
    "sns.distplot(data['PulseRate'],color=\"black\")"
   ]
  },
  {
   "cell_type": "code",
   "execution_count": 9,
   "metadata": {},
   "outputs": [
    {
     "data": {
      "text/plain": [
       "<matplotlib.axes._subplots.AxesSubplot at 0x2256c6954c8>"
      ]
     },
     "execution_count": 9,
     "metadata": {},
     "output_type": "execute_result"
    },
    {
     "data": {
      "image/png": "[encoded data removed]",
      "text/plain": [
       "<Figure size 432x288 with 1 Axes>"
      ]
     },
     "metadata": {
      "needs_background": "light"
     },
     "output_type": "display_data"
    }
   ],
   "source": [
    "sns.countplot(x='Decision',data=data)"
   ]
  },
  {
   "cell_type": "markdown",
   "metadata": {},
   "source": [
    "### Data Processing"
   ]
  },
  {
   "cell_type": "code",
   "execution_count": 10,
   "metadata": {},
   "outputs": [
    {
     "data": {
      "text/plain": [
       "['Gender']"
      ]
     },
     "execution_count": 10,
     "metadata": {},
     "output_type": "execute_result"
    }
   ],
   "source": [
    "#OneHotEncoding\n",
    "category = ['Gender']\n",
    "category"
   ]
  },
  {
   "cell_type": "code",
   "execution_count": 11,
   "metadata": {},
   "outputs": [
    {
     "data": {
      "text/html": [
       "<div>\n",
       "<style scoped>\n",
       "    .dataframe tbody tr th:only-of-type {\n",
       "        vertical-align: middle;\n",
       "    }\n",
       "\n",
       "    .dataframe tbody tr th {\n",
       "        vertical-align: top;\n",
       "    }\n",
       "\n",
       "    .dataframe thead th {\n",
       "        text-align: right;\n",
       "    }\n",
       "</style>\n",
       "<table border=\"1\" class=\"dataframe\">\n",
       "  <thead>\n",
       "    <tr style=\"text-align: right;\">\n",
       "      <th></th>\n",
       "      <th>PulseRate</th>\n",
       "      <th>BloodOxygen</th>\n",
       "      <th>BodyTemperature</th>\n",
       "      <th>Age</th>\n",
       "      <th>Height</th>\n",
       "      <th>Weight</th>\n",
       "      <th>Decision</th>\n",
       "      <th>Gender_Male</th>\n",
       "    </tr>\n",
       "  </thead>\n",
       "  <tbody>\n",
       "    <tr>\n",
       "      <th>0</th>\n",
       "      <td>70</td>\n",
       "      <td>98.6</td>\n",
       "      <td>97.5</td>\n",
       "      <td>70</td>\n",
       "      <td>64</td>\n",
       "      <td>183.927889</td>\n",
       "      <td>HighRisk</td>\n",
       "      <td>1</td>\n",
       "    </tr>\n",
       "    <tr>\n",
       "      <th>1</th>\n",
       "      <td>71</td>\n",
       "      <td>98.6</td>\n",
       "      <td>97.5</td>\n",
       "      <td>27</td>\n",
       "      <td>61</td>\n",
       "      <td>167.971111</td>\n",
       "      <td>LowRisk</td>\n",
       "      <td>1</td>\n",
       "    </tr>\n",
       "    <tr>\n",
       "      <th>2</th>\n",
       "      <td>74</td>\n",
       "      <td>98.6</td>\n",
       "      <td>97.5</td>\n",
       "      <td>26</td>\n",
       "      <td>68</td>\n",
       "      <td>175.929440</td>\n",
       "      <td>LowRisk</td>\n",
       "      <td>1</td>\n",
       "    </tr>\n",
       "    <tr>\n",
       "      <th>3</th>\n",
       "      <td>80</td>\n",
       "      <td>98.6</td>\n",
       "      <td>97.5</td>\n",
       "      <td>28</td>\n",
       "      <td>66</td>\n",
       "      <td>156.399676</td>\n",
       "      <td>LowRisk</td>\n",
       "      <td>1</td>\n",
       "    </tr>\n",
       "    <tr>\n",
       "      <th>4</th>\n",
       "      <td>73</td>\n",
       "      <td>98.6</td>\n",
       "      <td>97.5</td>\n",
       "      <td>25</td>\n",
       "      <td>66</td>\n",
       "      <td>186.604926</td>\n",
       "      <td>LowRisk</td>\n",
       "      <td>1</td>\n",
       "    </tr>\n",
       "    <tr>\n",
       "      <th>...</th>\n",
       "      <td>...</td>\n",
       "      <td>...</td>\n",
       "      <td>...</td>\n",
       "      <td>...</td>\n",
       "      <td>...</td>\n",
       "      <td>...</td>\n",
       "      <td>...</td>\n",
       "      <td>...</td>\n",
       "    </tr>\n",
       "    <tr>\n",
       "      <th>495</th>\n",
       "      <td>72</td>\n",
       "      <td>99.5</td>\n",
       "      <td>98.5</td>\n",
       "      <td>68</td>\n",
       "      <td>65</td>\n",
       "      <td>105.147025</td>\n",
       "      <td>NoRisk</td>\n",
       "      <td>1</td>\n",
       "    </tr>\n",
       "    <tr>\n",
       "      <th>496</th>\n",
       "      <td>79</td>\n",
       "      <td>99.5</td>\n",
       "      <td>98.5</td>\n",
       "      <td>66</td>\n",
       "      <td>68</td>\n",
       "      <td>195.937015</td>\n",
       "      <td>HighRisk</td>\n",
       "      <td>0</td>\n",
       "    </tr>\n",
       "    <tr>\n",
       "      <th>497</th>\n",
       "      <td>59</td>\n",
       "      <td>97.5</td>\n",
       "      <td>98.5</td>\n",
       "      <td>64</td>\n",
       "      <td>69</td>\n",
       "      <td>170.175854</td>\n",
       "      <td>HighRisk</td>\n",
       "      <td>1</td>\n",
       "    </tr>\n",
       "    <tr>\n",
       "      <th>498</th>\n",
       "      <td>64</td>\n",
       "      <td>97.5</td>\n",
       "      <td>97.7</td>\n",
       "      <td>48</td>\n",
       "      <td>66</td>\n",
       "      <td>169.654054</td>\n",
       "      <td>HighRisk</td>\n",
       "      <td>1</td>\n",
       "    </tr>\n",
       "    <tr>\n",
       "      <th>499</th>\n",
       "      <td>65</td>\n",
       "      <td>99.0</td>\n",
       "      <td>99.0</td>\n",
       "      <td>47</td>\n",
       "      <td>61</td>\n",
       "      <td>198.378694</td>\n",
       "      <td>HighRisk</td>\n",
       "      <td>1</td>\n",
       "    </tr>\n",
       "  </tbody>\n",
       "</table>\n",
       "<p>500 rows × 8 columns</p>\n",
       "</div>"
      ],
      "text/plain": [
       "     PulseRate  BloodOxygen  BodyTemperature  Age  Height      Weight  \\\n",
       "0           70         98.6             97.5   70      64  183.927889   \n",
       "1           71         98.6             97.5   27      61  167.971111   \n",
       "2           74         98.6             97.5   26      68  175.929440   \n",
       "3           80         98.6             97.5   28      66  156.399676   \n",
       "4           73         98.6             97.5   25      66  186.604926   \n",
       "..         ...          ...              ...  ...     ...         ...   \n",
       "495         72         99.5             98.5   68      65  105.147025   \n",
       "496         79         99.5             98.5   66      68  195.937015   \n",
       "497         59         97.5             98.5   64      69  170.175854   \n",
       "498         64         97.5             97.7   48      66  169.654054   \n",
       "499         65         99.0             99.0   47      61  198.378694   \n",
       "\n",
       "     Decision  Gender_Male  \n",
       "0    HighRisk            1  \n",
       "1     LowRisk            1  \n",
       "2     LowRisk            1  \n",
       "3     LowRisk            1  \n",
       "4     LowRisk            1  \n",
       "..        ...          ...  \n",
       "495    NoRisk            1  \n",
       "496  HighRisk            0  \n",
       "497  HighRisk            1  \n",
       "498  HighRisk            1  \n",
       "499  HighRisk            1  \n",
       "\n",
       "[500 rows x 8 columns]"
      ]
     },
     "execution_count": 11,
     "metadata": {},
     "output_type": "execute_result"
    }
   ],
   "source": [
    "final_data=pd.get_dummies(data,columns=category,drop_first=True)\n",
    "final_data"
   ]
  },
  {
   "cell_type": "code",
   "execution_count": 12,
   "metadata": {},
   "outputs": [],
   "source": [
    "from sklearn.model_selection import train_test_split\n",
    "from sklearn.preprocessing import StandardScaler"
   ]
  },
  {
   "cell_type": "code",
   "execution_count": 13,
   "metadata": {},
   "outputs": [],
   "source": [
    "scaler = StandardScaler()"
   ]
  },
  {
   "cell_type": "code",
   "execution_count": 14,
   "metadata": {},
   "outputs": [],
   "source": [
    "scaler.fit(final_data.drop('Decision',axis=1))\n",
    "scaled_feats = scaler.transform(final_data.drop('Decision',axis=1))"
   ]
  },
  {
   "cell_type": "code",
   "execution_count": 15,
   "metadata": {},
   "outputs": [
    {
     "data": {
      "text/plain": [
       "Index(['PulseRate', 'BloodOxygen', 'BodyTemperature', 'Age', 'Height',\n",
       "       'Weight', 'Decision', 'Gender_Male'],\n",
       "      dtype='object')"
      ]
     },
     "execution_count": 15,
     "metadata": {},
     "output_type": "execute_result"
    }
   ],
   "source": [
    "final_data.columns"
   ]
  },
  {
   "cell_type": "code",
   "execution_count": 16,
   "metadata": {},
   "outputs": [
    {
     "data": {
      "text/html": [
       "<div>\n",
       "<style scoped>\n",
       "    .dataframe tbody tr th:only-of-type {\n",
       "        vertical-align: middle;\n",
       "    }\n",
       "\n",
       "    .dataframe tbody tr th {\n",
       "        vertical-align: top;\n",
       "    }\n",
       "\n",
       "    .dataframe thead th {\n",
       "        text-align: right;\n",
       "    }\n",
       "</style>\n",
       "<table border=\"1\" class=\"dataframe\">\n",
       "  <thead>\n",
       "    <tr style=\"text-align: right;\">\n",
       "      <th></th>\n",
       "      <th>PulseRate</th>\n",
       "      <th>BloodOxygen</th>\n",
       "      <th>BodyTemperature</th>\n",
       "      <th>Age</th>\n",
       "      <th>Height</th>\n",
       "      <th>Weight</th>\n",
       "      <th>Gender_Male</th>\n",
       "    </tr>\n",
       "  </thead>\n",
       "  <tbody>\n",
       "    <tr>\n",
       "      <th>0</th>\n",
       "      <td>-0.519557</td>\n",
       "      <td>1.252708</td>\n",
       "      <td>-0.306281</td>\n",
       "      <td>1.522573</td>\n",
       "      <td>-0.499204</td>\n",
       "      <td>0.783067</td>\n",
       "      <td>0.830174</td>\n",
       "    </tr>\n",
       "    <tr>\n",
       "      <th>1</th>\n",
       "      <td>-0.377602</td>\n",
       "      <td>1.252708</td>\n",
       "      <td>-0.306281</td>\n",
       "      <td>-1.248554</td>\n",
       "      <td>-1.288252</td>\n",
       "      <td>0.270275</td>\n",
       "      <td>0.830174</td>\n",
       "    </tr>\n",
       "    <tr>\n",
       "      <th>2</th>\n",
       "      <td>0.048265</td>\n",
       "      <td>1.252708</td>\n",
       "      <td>-0.306281</td>\n",
       "      <td>-1.312998</td>\n",
       "      <td>0.552859</td>\n",
       "      <td>0.526026</td>\n",
       "      <td>0.830174</td>\n",
       "    </tr>\n",
       "    <tr>\n",
       "      <th>3</th>\n",
       "      <td>0.899998</td>\n",
       "      <td>1.252708</td>\n",
       "      <td>-0.306281</td>\n",
       "      <td>-1.184109</td>\n",
       "      <td>0.026828</td>\n",
       "      <td>-0.101589</td>\n",
       "      <td>0.830174</td>\n",
       "    </tr>\n",
       "    <tr>\n",
       "      <th>4</th>\n",
       "      <td>-0.093691</td>\n",
       "      <td>1.252708</td>\n",
       "      <td>-0.306281</td>\n",
       "      <td>-1.377443</td>\n",
       "      <td>0.026828</td>\n",
       "      <td>0.869097</td>\n",
       "      <td>0.830174</td>\n",
       "    </tr>\n",
       "  </tbody>\n",
       "</table>\n",
       "</div>"
      ],
      "text/plain": [
       "   PulseRate  BloodOxygen  BodyTemperature       Age    Height    Weight  \\\n",
       "0  -0.519557     1.252708        -0.306281  1.522573 -0.499204  0.783067   \n",
       "1  -0.377602     1.252708        -0.306281 -1.248554 -1.288252  0.270275   \n",
       "2   0.048265     1.252708        -0.306281 -1.312998  0.552859  0.526026   \n",
       "3   0.899998     1.252708        -0.306281 -1.184109  0.026828 -0.101589   \n",
       "4  -0.093691     1.252708        -0.306281 -1.377443  0.026828  0.869097   \n",
       "\n",
       "   Gender_Male  \n",
       "0     0.830174  \n",
       "1     0.830174  \n",
       "2     0.830174  \n",
       "3     0.830174  \n",
       "4     0.830174  "
      ]
     },
     "execution_count": 16,
     "metadata": {},
     "output_type": "execute_result"
    }
   ],
   "source": [
    "\n",
    "data_feats = pd.DataFrame(scaled_feats,columns=['PulseRate', 'BloodOxygen', 'BodyTemperature', 'Age', 'Height',\n",
    "       'Weight', 'Gender_Male'])\n",
    "data_feats.head()"
   ]
  },
  {
   "cell_type": "code",
   "execution_count": 17,
   "metadata": {},
   "outputs": [],
   "source": [
    "X = data_feats\n",
    "y = final_data['Decision']\n",
    "X_train, X_test, y_train, y_test = train_test_split(X, y, test_size=0.3)"
   ]
  },
  {
   "cell_type": "markdown",
   "metadata": {},
   "source": [
    "### Training and Prediction"
   ]
  },
  {
   "cell_type": "code",
   "execution_count": 18,
   "metadata": {},
   "outputs": [],
   "source": [
    "from sklearn.neighbors import KNeighborsClassifier\n",
    "from sklearn.svm import SVC"
   ]
  },
  {
   "cell_type": "code",
   "execution_count": 19,
   "metadata": {},
   "outputs": [],
   "source": [
    "svc = SVC()\n",
    "knn = KNeighborsClassifier(n_neighbors=1)"
   ]
  },
  {
   "cell_type": "code",
   "execution_count": 20,
   "metadata": {},
   "outputs": [
    {
     "data": {
      "text/plain": [
       "SVC(C=1.0, break_ties=False, cache_size=200, class_weight=None, coef0=0.0,\n",
       "    decision_function_shape='ovr', degree=3, gamma='scale', kernel='rbf',\n",
       "    max_iter=-1, probability=False, random_state=None, shrinking=True,\n",
       "    tol=0.001, verbose=False)"
      ]
     },
     "execution_count": 20,
     "metadata": {},
     "output_type": "execute_result"
    }
   ],
   "source": [
    "knn.fit(X_train,y_train)\n",
    "svc.fit(X_train,y_train)"
   ]
  },
  {
   "cell_type": "code",
   "execution_count": 21,
   "metadata": {},
   "outputs": [],
   "source": [
    "svm_prediction = svc.predict(X_test)\n",
    "knn_prediction = knn.predict(X_test)"
   ]
  },
  {
   "cell_type": "markdown",
   "metadata": {},
   "source": [
    "### Accuracy Report"
   ]
  },
  {
   "cell_type": "code",
   "execution_count": 22,
   "metadata": {},
   "outputs": [],
   "source": [
    "from sklearn.metrics import classification_report, confusion_matrix"
   ]
  },
  {
   "cell_type": "code",
   "execution_count": 23,
   "metadata": {},
   "outputs": [
    {
     "name": "stdout",
     "output_type": "stream",
     "text": [
      "[[39  2  3]\n",
      " [ 8 31  3]\n",
      " [ 9  4 51]]\n",
      "              precision    recall  f1-score   support\n",
      "\n",
      "    HighRisk       0.70      0.89      0.78        44\n",
      "     LowRisk       0.84      0.74      0.78        42\n",
      "      NoRisk       0.89      0.80      0.84        64\n",
      "\n",
      "    accuracy                           0.81       150\n",
      "   macro avg       0.81      0.81      0.80       150\n",
      "weighted avg       0.82      0.81      0.81       150\n",
      "\n"
     ]
    }
   ],
   "source": [
    "#SVM Prediction\n",
    "print(confusion_matrix(y_test,svm_prediction))\n",
    "print(classification_report(y_test,svm_prediction))"
   ]
  },
  {
   "cell_type": "code",
   "execution_count": 24,
   "metadata": {},
   "outputs": [
    {
     "name": "stdout",
     "output_type": "stream",
     "text": [
      "[[35  4  5]\n",
      " [ 5 31  6]\n",
      " [12  5 47]]\n",
      "              precision    recall  f1-score   support\n",
      "\n",
      "    HighRisk       0.67      0.80      0.73        44\n",
      "     LowRisk       0.78      0.74      0.76        42\n",
      "      NoRisk       0.81      0.73      0.77        64\n",
      "\n",
      "    accuracy                           0.75       150\n",
      "   macro avg       0.75      0.76      0.75       150\n",
      "weighted avg       0.76      0.75      0.75       150\n",
      "\n"
     ]
    }
   ],
   "source": [
    "#KNN Prediction\n",
    "print(confusion_matrix(y_test,knn_prediction))\n",
    "print(classification_report(y_test,knn_prediction))"
   ]
  },
  {
   "cell_type": "markdown",
   "metadata": {},
   "source": [
    "### Prediction Check"
   ]
  },
  {
   "cell_type": "code",
   "execution_count": 25,
   "metadata": {},
   "outputs": [
    {
     "data": {
      "text/html": [
       "<div>\n",
       "<style scoped>\n",
       "    .dataframe tbody tr th:only-of-type {\n",
       "        vertical-align: middle;\n",
       "    }\n",
       "\n",
       "    .dataframe tbody tr th {\n",
       "        vertical-align: top;\n",
       "    }\n",
       "\n",
       "    .dataframe thead th {\n",
       "        text-align: right;\n",
       "    }\n",
       "</style>\n",
       "<table border=\"1\" class=\"dataframe\">\n",
       "  <thead>\n",
       "    <tr style=\"text-align: right;\">\n",
       "      <th></th>\n",
       "      <th>PulseRate</th>\n",
       "      <th>BloodOxygen</th>\n",
       "      <th>BodyTemperature</th>\n",
       "      <th>Age</th>\n",
       "      <th>Height</th>\n",
       "      <th>Weight</th>\n",
       "      <th>Gender_Male</th>\n",
       "    </tr>\n",
       "  </thead>\n",
       "  <tbody>\n",
       "    <tr>\n",
       "      <th>0</th>\n",
       "      <td>69</td>\n",
       "      <td>97.5</td>\n",
       "      <td>97.5</td>\n",
       "      <td>45</td>\n",
       "      <td>72</td>\n",
       "      <td>160.684</td>\n",
       "      <td>1</td>\n",
       "    </tr>\n",
       "  </tbody>\n",
       "</table>\n",
       "</div>"
      ],
      "text/plain": [
       "  PulseRate BloodOxygen BodyTemperature Age Height   Weight Gender_Male\n",
       "0        69        97.5            97.5  45     72  160.684           1"
      ]
     },
     "execution_count": 25,
     "metadata": {},
     "output_type": "execute_result"
    }
   ],
   "source": [
    "#78 knn fails\n",
    "new=pd.DataFrame(final_data.loc[78]).transpose().drop('Decision',axis=1).reset_index(drop=True)\n",
    "original_value=final_data.loc[78]['Decision']\n",
    "new"
   ]
  },
  {
   "cell_type": "code",
   "execution_count": 26,
   "metadata": {},
   "outputs": [
    {
     "data": {
      "text/plain": [
       "'HighRisk'"
      ]
     },
     "execution_count": 26,
     "metadata": {},
     "output_type": "execute_result"
    }
   ],
   "source": [
    "original_value"
   ]
  },
  {
   "cell_type": "code",
   "execution_count": 27,
   "metadata": {},
   "outputs": [
    {
     "data": {
      "text/plain": [
       "array(['HighRisk'], dtype=object)"
      ]
     },
     "execution_count": 27,
     "metadata": {},
     "output_type": "execute_result"
    }
   ],
   "source": [
    "svc.predict(scaler.transform(new))\n",
    "#SVC much more accurate"
   ]
  },
  {
   "cell_type": "code",
   "execution_count": 28,
   "metadata": {},
   "outputs": [
    {
     "data": {
      "text/plain": [
       "array(['HighRisk'], dtype=object)"
      ]
     },
     "execution_count": 28,
     "metadata": {},
     "output_type": "execute_result"
    }
   ],
   "source": [
    "knn.predict(scaler.transform(new))"
   ]
  },
  {
   "cell_type": "code",
   "execution_count": 29,
   "metadata": {},
   "outputs": [
    {
     "data": {
      "text/html": [
       "<div>\n",
       "<style scoped>\n",
       "    .dataframe tbody tr th:only-of-type {\n",
       "        vertical-align: middle;\n",
       "    }\n",
       "\n",
       "    .dataframe tbody tr th {\n",
       "        vertical-align: top;\n",
       "    }\n",
       "\n",
       "    .dataframe thead th {\n",
       "        text-align: right;\n",
       "    }\n",
       "</style>\n",
       "<table border=\"1\" class=\"dataframe\">\n",
       "  <thead>\n",
       "    <tr style=\"text-align: right;\">\n",
       "      <th></th>\n",
       "      <th>PulseRate</th>\n",
       "      <th>BloodOxygen</th>\n",
       "      <th>BodyTemperature</th>\n",
       "      <th>Age</th>\n",
       "      <th>Height</th>\n",
       "      <th>Weight</th>\n",
       "      <th>Gender_Male</th>\n",
       "    </tr>\n",
       "  </thead>\n",
       "  <tbody>\n",
       "    <tr>\n",
       "      <th>0</th>\n",
       "      <td>79</td>\n",
       "      <td>99</td>\n",
       "      <td>98</td>\n",
       "      <td>31</td>\n",
       "      <td>59</td>\n",
       "      <td>160.45</td>\n",
       "      <td>0</td>\n",
       "    </tr>\n",
       "  </tbody>\n",
       "</table>\n",
       "</div>"
      ],
      "text/plain": [
       "   PulseRate  BloodOxygen  BodyTemperature  Age  Height  Weight  Gender_Male\n",
       "0         79           99               98   31      59  160.45            0"
      ]
     },
     "execution_count": 29,
     "metadata": {},
     "output_type": "execute_result"
    }
   ],
   "source": [
    "#BRANDNEW DATA\n",
    "insert = {\n",
    "    'PulseRate':[79], #Beats\n",
    "    'BloodOxygen':[99], #100%\n",
    "    'BodyTemperature':[98], #Celsius\n",
    "    'Age':[31], \n",
    "    'Height':[59], #Inches\n",
    "    'Weight':[160.45], #Lbs Pounds\n",
    "    'Gender_Male':[0] # 1=Male, 0=Female\n",
    "}\n",
    "brandNew=pd.DataFrame(data=insert)\n",
    "brandNew\n",
    "\n"
   ]
  },
  {
   "cell_type": "code",
   "execution_count": 30,
   "metadata": {},
   "outputs": [
    {
     "data": {
      "text/plain": [
       "array(['LowRisk'], dtype=object)"
      ]
     },
     "execution_count": 30,
     "metadata": {},
     "output_type": "execute_result"
    }
   ],
   "source": [
    "svc.predict(scaler.transform(brandNew))"
   ]
  },
  {
   "cell_type": "code",
   "execution_count": 31,
   "metadata": {},
   "outputs": [
    {
     "data": {
      "text/plain": [
       "array(['NoRisk'], dtype=object)"
      ]
     },
     "execution_count": 31,
     "metadata": {},
     "output_type": "execute_result"
    }
   ],
   "source": [
    "knn.predict(scaler.transform(brandNew))"
   ]
  },
  {
   "cell_type": "markdown",
   "metadata": {},
   "source": [
    "### Saving Model"
   ]
  },
  {
   "cell_type": "code",
   "execution_count": 36,
   "metadata": {},
   "outputs": [
    {
     "data": {
      "text/plain": [
       "['health-predictor.h5']"
      ]
     },
     "execution_count": 36,
     "metadata": {},
     "output_type": "execute_result"
    }
   ],
   "source": [
    "import joblib\n",
    "joblib.dump(svc,\"health-predictor.h5\")"
   ]
  },
  {
   "cell_type": "code",
   "execution_count": 37,
   "metadata": {},
   "outputs": [
    {
     "data": {
      "text/plain": [
       "['health-predictor-scaler.pkl']"
      ]
     },
     "execution_count": 37,
     "metadata": {},
     "output_type": "execute_result"
    }
   ],
   "source": [
    "joblib.dump(scaler,\"health-predictor-scaler.pkl\")"
   ]
  },
  {
   "cell_type": "code",
   "execution_count": 42,
   "metadata": {},
   "outputs": [],
   "source": [
    "loaded_model = joblib.load(\"health-predictor.h5\")"
   ]
  },
  {
   "cell_type": "code",
   "execution_count": 43,
   "metadata": {},
   "outputs": [],
   "source": [
    "loaded_scaler = joblib.load(\"health-predictor-scaler.pkl\")"
   ]
  },
  {
   "cell_type": "code",
   "execution_count": 45,
   "metadata": {},
   "outputs": [
    {
     "data": {
      "text/plain": [
       "array(['LowRisk'], dtype=object)"
      ]
     },
     "execution_count": 45,
     "metadata": {},
     "output_type": "execute_result"
    }
   ],
   "source": [
    "#Checking the loaded model and scaler\n",
    "loaded_model.predict(loaded_scaler.transform(brandNew))"
   ]
  },
  {
   "cell_type": "code",
   "execution_count": 71,
   "metadata": {},
   "outputs": [
    {
     "ename": "FileNotFoundError",
     "evalue": "[Errno 2] No such file or directory: 'health-predictor.h5'",
     "output_type": "error",
     "traceback": [
      "\u001b[1;31m---------------------------------------------------------------------------\u001b[0m",
      "\u001b[1;31mFileNotFoundError\u001b[0m                         Traceback (most recent call last)",
      "\u001b[1;32m<ipython-input-71-d192960eab43>\u001b[0m in \u001b[0;36m<module>\u001b[1;34m\u001b[0m\n\u001b[1;32m----> 1\u001b[1;33m \u001b[0mloaded_model\u001b[0m \u001b[1;33m=\u001b[0m \u001b[0mjoblib\u001b[0m\u001b[1;33m.\u001b[0m\u001b[0mload\u001b[0m\u001b[1;33m(\u001b[0m\u001b[1;34m\"health-predictor.h5\"\u001b[0m\u001b[1;33m)\u001b[0m\u001b[1;33m\u001b[0m\u001b[1;33m\u001b[0m\u001b[0m\n\u001b[0m\u001b[0;32m      2\u001b[0m \u001b[0mloaded_scaler\u001b[0m \u001b[1;33m=\u001b[0m \u001b[0mjoblib\u001b[0m\u001b[1;33m.\u001b[0m\u001b[0mload\u001b[0m\u001b[1;33m(\u001b[0m\u001b[1;34m\"health-predictor-scaler.pkl\"\u001b[0m\u001b[1;33m)\u001b[0m\u001b[1;33m\u001b[0m\u001b[1;33m\u001b[0m\u001b[0m\n\u001b[0;32m      3\u001b[0m \u001b[1;33m\u001b[0m\u001b[0m\n\u001b[0;32m      4\u001b[0m \u001b[1;32mdef\u001b[0m \u001b[0mreturn_prediction\u001b[0m\u001b[1;33m(\u001b[0m\u001b[0mmodel\u001b[0m\u001b[1;33m,\u001b[0m\u001b[0mscaler\u001b[0m\u001b[1;33m,\u001b[0m\u001b[0msample_json\u001b[0m\u001b[1;33m)\u001b[0m\u001b[1;33m:\u001b[0m\u001b[1;33m\u001b[0m\u001b[1;33m\u001b[0m\u001b[0m\n\u001b[0;32m      5\u001b[0m \u001b[1;33m\u001b[0m\u001b[0m\n",
      "\u001b[1;32mF:\\Program Files\\anaconda3\\lib\\site-packages\\joblib\\numpy_pickle.py\u001b[0m in \u001b[0;36mload\u001b[1;34m(filename, mmap_mode)\u001b[0m\n\u001b[0;32m    595\u001b[0m             \u001b[0mobj\u001b[0m \u001b[1;33m=\u001b[0m \u001b[0m_unpickle\u001b[0m\u001b[1;33m(\u001b[0m\u001b[0mfobj\u001b[0m\u001b[1;33m)\u001b[0m\u001b[1;33m\u001b[0m\u001b[1;33m\u001b[0m\u001b[0m\n\u001b[0;32m    596\u001b[0m     \u001b[1;32melse\u001b[0m\u001b[1;33m:\u001b[0m\u001b[1;33m\u001b[0m\u001b[1;33m\u001b[0m\u001b[0m\n\u001b[1;32m--> 597\u001b[1;33m         \u001b[1;32mwith\u001b[0m \u001b[0mopen\u001b[0m\u001b[1;33m(\u001b[0m\u001b[0mfilename\u001b[0m\u001b[1;33m,\u001b[0m \u001b[1;34m'rb'\u001b[0m\u001b[1;33m)\u001b[0m \u001b[1;32mas\u001b[0m \u001b[0mf\u001b[0m\u001b[1;33m:\u001b[0m\u001b[1;33m\u001b[0m\u001b[1;33m\u001b[0m\u001b[0m\n\u001b[0m\u001b[0;32m    598\u001b[0m             \u001b[1;32mwith\u001b[0m \u001b[0m_read_fileobject\u001b[0m\u001b[1;33m(\u001b[0m\u001b[0mf\u001b[0m\u001b[1;33m,\u001b[0m \u001b[0mfilename\u001b[0m\u001b[1;33m,\u001b[0m \u001b[0mmmap_mode\u001b[0m\u001b[1;33m)\u001b[0m \u001b[1;32mas\u001b[0m \u001b[0mfobj\u001b[0m\u001b[1;33m:\u001b[0m\u001b[1;33m\u001b[0m\u001b[1;33m\u001b[0m\u001b[0m\n\u001b[0;32m    599\u001b[0m                 \u001b[1;32mif\u001b[0m \u001b[0misinstance\u001b[0m\u001b[1;33m(\u001b[0m\u001b[0mfobj\u001b[0m\u001b[1;33m,\u001b[0m \u001b[0m_basestring\u001b[0m\u001b[1;33m)\u001b[0m\u001b[1;33m:\u001b[0m\u001b[1;33m\u001b[0m\u001b[1;33m\u001b[0m\u001b[0m\n",
      "\u001b[1;31mFileNotFoundError\u001b[0m: [Errno 2] No such file or directory: 'health-predictor.h5'"
     ]
    }
   ],
   "source": [
    "loaded_model = joblib.load(\"health-predictor.h5\")\n",
    "loaded_scaler = joblib.load(\"health-predictor-scaler.pkl\")\n",
    "\n",
    "def return_prediction(model,scaler,sample_json):\n",
    "    \n",
    "    # For larger data features, you should probably write a for loop\n",
    "    # That builds out this array for you\n",
    "    \n",
    "    #pulse = sample_json['PulseRate']\n",
    "    #blood = sample_json['BloodOxygen']\n",
    "    #temp = sample_json['BodyTemperature']\n",
    "    #age = sample_json['Age']\n",
    "    #height = sample_json['Height']\n",
    "    #weight = sample_json['Weight']\n",
    "    #gender_male = sample_json['Gender_Male']\n",
    "    \n",
    "    \n",
    "    #predictor = [[pulse,blood,temp,age,height,weight,gender_male]]\n",
    "    \n",
    "    predictor = scaler.transform(brandNew)\n",
    "    \n",
    "    #classes = np.array(['setosa', 'versicolor', 'virginica'])\n",
    "    \n",
    "    class_ind = model.predict(predictor)\n",
    "    \n",
    "    return class_ind[0]\n"
   ]
  },
  {
   "cell_type": "code",
   "execution_count": 69,
   "metadata": {},
   "outputs": [
    {
     "data": {
      "text/plain": [
       "'LowRisk'"
      ]
     },
     "execution_count": 69,
     "metadata": {},
     "output_type": "execute_result"
    }
   ],
   "source": [
    "return_prediction(loaded_model,loaded_scaler,brandNew)"
   ]
  }
 ],
 "metadata": {
  "kernelspec": {
   "display_name": "Python 3",
   "language": "python",
   "name": "python3"
  },
  "language_info": {
   "codemirror_mode": {
    "name": "ipython",
    "version": 3
   },
   "file_extension": ".py",
   "mimetype": "text/x-python",
   "name": "python",
   "nbconvert_exporter": "python",
   "pygments_lexer": "ipython3",
   "version": "3.7.6"
  }
 },
 "nbformat": 4,
 "nbformat_minor": 4
}
